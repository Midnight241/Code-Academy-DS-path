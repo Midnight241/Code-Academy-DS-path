{
 "cells": [
  {
   "cell_type": "markdown",
   "id": "975cee20",
   "metadata": {},
   "source": [
    "#  This is my analysis on insurance costs and how smoking increases the cost .\n",
    "I started by importing the data from the csv file.\n",
    "\n"
   ]
  },
  {
   "cell_type": "code",
   "execution_count": 1,
   "id": "2573323f",
   "metadata": {},
   "outputs": [],
   "source": [
    "import csv"
   ]
  },
  {
   "cell_type": "code",
   "execution_count": 2,
   "id": "cf35cfea",
   "metadata": {},
   "outputs": [
    {
     "name": "stdout",
     "output_type": "stream",
     "text": [
      "data\n"
     ]
    }
   ],
   "source": [
    "data = []\n",
    "with open(\"insurance.csv\", mode=\"r\", newline='') as insurance:\n",
    " insurances = csv.DictReader(insurance)\n",
    " for row in insurances:\n",
    "     data.append(row)\n",
    "\n",
    "print(\"data\")\n",
    "    \n"
   ]
  },
  {
   "cell_type": "markdown",
   "id": "345745b8",
   "metadata": {},
   "source": [
    "Added the data to lists for any potential future need and made a small for loop in case I needed to visualize a certain type of data."
   ]
  },
  {
   "cell_type": "code",
   "execution_count": 3,
   "id": "365e4904",
   "metadata": {},
   "outputs": [],
   "source": [
    "for record in data:\n",
    "    age = (record[\"age\"])\n",
    "    region = record[\"region\"]\n",
    "    charges = (record[\"charges\"])\n",
    "    bmi = (record[\"bmi\"])\n",
    "    children = (record[\"children\"])\n",
    "    sex = record[\"sex\"]\n",
    "    smoker = record[\"smoker\"]\n",
    "    \n",
    "\n",
    "age_list = [record[\"age\"] for record in data]\n",
    "smoker_list = [record[\"smoker\"] for record in data]\n",
    "bmi_list = [record[\"bmi\"] for record in data]\n",
    "children_list = [record[\"children\"] for record in data]\n",
    "sex_list = [record[\"sex\"] for record in data]\n",
    "charges_list = [record[\"charges\"] for record in data]\n",
    "region_list = [record[\"region\"] for record in data]\n",
    "#for age in age_list:\n",
    "    #print(age)"
   ]
  },
  {
   "cell_type": "markdown",
   "id": "7a1802fe",
   "metadata": {},
   "source": [
    "As we can see in the results from the code below the difference in our average cost for smokers and non smokers is quite huge. "
   ]
  },
  {
   "cell_type": "code",
   "execution_count": 4,
   "id": "a64309fe",
   "metadata": {},
   "outputs": [
    {
     "name": "stdout",
     "output_type": "stream",
     "text": [
      "Average cost for smokers: 32050.2\n",
      "Average cost for non-smokers: 8434.3\n"
     ]
    }
   ],
   "source": [
    "smokers_data = []\n",
    "non_smokers_data = []\n",
    "with open(\"insurance.csv\", mode=\"r\", newline='') as insurance:\n",
    " insurances = csv.DictReader(insurance)\n",
    " for row in insurances:\n",
    "        if row[\"smoker\"] == \"yes\":\n",
    "            smokers_data.append(row)\n",
    "        else:\n",
    "            non_smokers_data.append(row)\n",
    "            \n",
    "smoker_total_cost = sum(float(record[\"charges\"]) for record in smokers_data)\n",
    "smoker_average_cost = smoker_total_cost / len(smokers_data) if len(smokers_data) > 0 else 0\n",
    "\n",
    "\n",
    "non_smoker_total_cost = sum(float(record[\"charges\"]) for record in non_smokers_data)\n",
    "non_smoker_average_cost = non_smoker_total_cost / len(non_smokers_data) if len(non_smokers_data) > 0 else 0\n",
    "\n",
    "formatted_smoker_average_cost = round(smoker_average_cost, 1)\n",
    "formatted_non_smoker_average_cost = round(non_smoker_average_cost, 1)\n",
    "\n",
    "print(f\"Average cost for smokers: {formatted_smoker_average_cost}\")\n",
    "print(f\"Average cost for non-smokers: {formatted_non_smoker_average_cost}\")"
   ]
  },
  {
   "cell_type": "markdown",
   "id": "0a387771",
   "metadata": {},
   "source": [
    "Here I divided the regions and got their average cost to see if anything important could be gained out of it, but only saw an increase in costs in the east when compared to the west.\n",
    "something that might be interesting to analyze furter but I believe with the data at hand I wont be able to get a good enough answer so I didnt purse this type of question any further."
   ]
  },
  {
   "cell_type": "code",
   "execution_count": 5,
   "id": "0ace613b",
   "metadata": {},
   "outputs": [
    {
     "name": "stdout",
     "output_type": "stream",
     "text": [
      "Region\t\tAverage Cost\n",
      "southwest\t\t12346.94\n",
      "southeast\t\t14735.41\n",
      "northwest\t\t12417.58\n",
      "northeast\t\t13406.38\n"
     ]
    }
   ],
   "source": [
    "from collections import defaultdict\n",
    "\n",
    "data_by_region = defaultdict(list)\n",
    "\n",
    "with open(\"insurance.csv\", mode=\"r\", newline='') as insurance:\n",
    " insurances = csv.DictReader(insurance)\n",
    " for row in insurances:\n",
    "        region = row[\"region\"]\n",
    "        data_by_region[region].append(float(row[\"charges\"]))\n",
    "\n",
    "\n",
    "average_costs = {}\n",
    "for region, costs in data_by_region.items():\n",
    "    average_costs[region] = sum(costs) / len(costs) if len(costs) > 0 else 0\n",
    "\n",
    "\n",
    "print(\"Region\\t\\tAverage Cost\")\n",
    "for region, average_cost in average_costs.items():\n",
    "    print(f\"{region}\\t\\t{average_cost:.2f}\")\n"
   ]
  },
  {
   "cell_type": "markdown",
   "id": "061377d3",
   "metadata": {},
   "source": [
    "I decided to make some  age groups to see the difference in insurance costs between them, and as we can see the older you are the more expensive your insurance is, something that its easier to understand by seeing the actual value differences."
   ]
  },
  {
   "cell_type": "code",
   "execution_count": 6,
   "id": "40aa1507",
   "metadata": {},
   "outputs": [
    {
     "name": "stdout",
     "output_type": "stream",
     "text": [
      "Age Group\tCount\tAverage Cost\n",
      "18-25\t306\t9087.02\n",
      "26-40\t395\t11096.68\n",
      "41-60\t546\t15888.76\n",
      "61+\t91\t21063.16\n"
     ]
    }
   ],
   "source": [
    "age_groups = [\n",
    "    {\"name\": \"18-25\", \"min\": 18, \"max\": 25},\n",
    "    {\"name\": \"26-40\", \"min\": 26, \"max\": 40},\n",
    "    {\"name\": \"41-60\", \"min\": 41, \"max\": 60},\n",
    "    {\"name\": \"61+\", \"min\": 61, \"max\": float('inf')}\n",
    "]\n",
    "data_by_age_group = {group[\"name\"]: {\"count\": 0, \"total_cost\": 0} for group in age_groups}\n",
    "\n",
    "\n",
    "with open(\"insurance.csv\", mode=\"r\", newline='') as insurance:\n",
    " insurances = csv.DictReader(insurance)\n",
    " for row in insurances:\n",
    "        age = int(row[\"age\"])\n",
    "        cost = float(row[\"charges\"])\n",
    "        for group in age_groups:\n",
    "            if group[\"min\"] <= age <= group[\"max\"]:\n",
    "                data_by_age_group[group[\"name\"]][\"count\"] += 1\n",
    "                data_by_age_group[group[\"name\"]][\"total_cost\"] += cost\n",
    "                break\n",
    "                \n",
    "average_costs_age = {}\n",
    "for group, data in data_by_age_group.items():\n",
    "    count = data[\"count\"]\n",
    "    total_cost = data[\"total_cost\"]\n",
    "    average_costs_age[group] = total_cost / count if count > 0 else 0\n",
    "\n",
    "print(\"Age Group\\tCount\\tAverage Cost\")\n",
    "for group, count in data_by_age_group.items():\n",
    "    print(f\"{group}\\t{count['count']}\\t{average_costs_age[group]:.2f}\")\n"
   ]
  },
  {
   "cell_type": "markdown",
   "id": "e420f376",
   "metadata": {},
   "source": [
    "Here I decided to make wether you are a smoker or not a factor in the previous data for further analysis."
   ]
  },
  {
   "cell_type": "code",
   "execution_count": 7,
   "id": "e89bb4bb",
   "metadata": {},
   "outputs": [
    {
     "name": "stdout",
     "output_type": "stream",
     "text": [
      "Table for Smokers\n",
      "Age Group\tCount\tAverage Cost\n",
      "18-25\t65\t27933.56\n",
      "26-40\t84\t29103.41\n",
      "41-60\t103\t35581.99\n",
      "61+\t22\t38929.62\n",
      "\n",
      "Table for Non-Smokers\n",
      "Age Group\tCount\tAverage Cost\n",
      "18-25\t241\t4003.92\n",
      "26-40\t311\t6233.13\n",
      "41-60\t443\t11309.97\n",
      "61+\t69\t15366.61\n"
     ]
    }
   ],
   "source": [
    "data_by_age_group_smokers = {group[\"name\"]: {\"count\": 0, \"total_cost\": 0} for group in age_groups}\n",
    "data_by_age_group_non_smokers = {group[\"name\"]: {\"count\": 0, \"total_cost\": 0} for group in age_groups}\n",
    "\n",
    "\n",
    "with open(\"insurance.csv\", mode=\"r\", newline='') as insurance:\n",
    " insurances = csv.DictReader(insurance)\n",
    " for row in insurances:\n",
    "        age = int(row[\"age\"])\n",
    "        cost = float(row[\"charges\"])\n",
    "        is_smoker = row['smoker'].lower() == 'yes'\n",
    "        \n",
    "        for group in age_groups:\n",
    "            if group[\"min\"] <= age <= group[\"max\"]:\n",
    "                data_by_age_group = data_by_age_group_smokers if is_smoker else data_by_age_group_non_smokers\n",
    "                data_by_age_group[group[\"name\"]][\"count\"] += 1\n",
    "                data_by_age_group[group[\"name\"]][\"total_cost\"] += cost\n",
    "                break\n",
    "\n",
    "average_costs_smokers = {}\n",
    "average_costs_non_smokers = {}\n",
    "\n",
    "for group, data in data_by_age_group_smokers.items():\n",
    "    count = data[\"count\"]\n",
    "    total_cost = data[\"total_cost\"]\n",
    "    average_costs_smokers[group] = total_cost / count if count > 0 else 0\n",
    "    \n",
    "for group, data in data_by_age_group_non_smokers.items():\n",
    "    count = data[\"count\"]\n",
    "    total_cost = data[\"total_cost\"]\n",
    "    average_costs_non_smokers[group] = total_cost / count if count > 0 else 0\n",
    "\n",
    "print(\"Table for Smokers\")\n",
    "print(\"Age Group\\tCount\\tAverage Cost\")\n",
    "for group, count in data_by_age_group_smokers.items():\n",
    "    print(f\"{group}\\t{count['count']}\\t{average_costs_smokers[group]:.2f}\")\n",
    "    \n",
    "print(\"\\nTable for Non-Smokers\")\n",
    "print(\"Age Group\\tCount\\tAverage Cost\")\n",
    "for group, count in data_by_age_group_non_smokers.items():\n",
    "    print(f\"{group}\\t{count['count']}\\t{average_costs_non_smokers[group]:.2f}\")   "
   ]
  },
  {
   "cell_type": "markdown",
   "id": "de45dcbc",
   "metadata": {},
   "source": [
    "Here I decided to get total counts for different type of groups so I could understand more the type of data and how some of these other factors might affect the cost of the insurrance."
   ]
  },
  {
   "cell_type": "code",
   "execution_count": 8,
   "id": "1fbd5662",
   "metadata": {
    "scrolled": true
   },
   "outputs": [
    {
     "name": "stdout",
     "output_type": "stream",
     "text": [
      "Average Age: 39.21\n",
      "Female Count: 662\n",
      "Male Count: 676\n",
      "Smokers Count: 274\n",
      "Non-Smokers Count: 1064\n"
     ]
    }
   ],
   "source": [
    "total_age = 0\n",
    "total_people = 0\n",
    "female_count = 0\n",
    "male_count = 0\n",
    "smoker_count = 0\n",
    "non_smoker_count = 0\n",
    "\n",
    "with open(\"insurance.csv\", mode=\"r\", newline='') as insurance:\n",
    " insurances = csv.DictReader(insurance)\n",
    " \n",
    " for row in insurances:\n",
    "    age = int(row[\"age\"])\n",
    "    sex = row[\"sex\"].lower()\n",
    "    is_smoker = row[\"smoker\"].lower() == \"yes\"\n",
    "    \n",
    "    total_age += age\n",
    "    total_people += 1\n",
    "    \n",
    "    if sex == 'female':\n",
    "        female_count += 1\n",
    "    elif sex == 'male':\n",
    "        male_count += 1\n",
    "        \n",
    "    if is_smoker:\n",
    "        smoker_count += 1\n",
    "    else:\n",
    "        non_smoker_count += 1\n",
    "        \n",
    "average_age = total_age / total_people if total_people > 0 else 0\n",
    "\n",
    "print(f\"Average Age: {average_age:.2f}\")\n",
    "print(f\"Female Count: {female_count}\")\n",
    "print(f\"Male Count: {male_count}\")\n",
    "print(f\"Smokers Count: {smoker_count}\")\n",
    "print(f\"Non-Smokers Count: {non_smoker_count}\")"
   ]
  },
  {
   "cell_type": "code",
   "execution_count": 9,
   "id": "a2b3d54c",
   "metadata": {},
   "outputs": [
    {
     "ename": "SyntaxError",
     "evalue": "invalid syntax (4247987731.py, line 1)",
     "output_type": "error",
     "traceback": [
      "\u001b[1;36m  Cell \u001b[1;32mIn[9], line 1\u001b[1;36m\u001b[0m\n\u001b[1;33m    And here I decided to divide by sexes the smokers within our data.\u001b[0m\n\u001b[1;37m        ^\u001b[0m\n\u001b[1;31mSyntaxError\u001b[0m\u001b[1;31m:\u001b[0m invalid syntax\n"
     ]
    }
   ],
   "source": [
    "And here I decided to divide by sexes the smokers within our data."
   ]
  },
  {
   "cell_type": "code",
   "execution_count": null,
   "id": "1af8a258",
   "metadata": {},
   "outputs": [],
   "source": [
    "female_smoker_count = 0\n",
    "female_non_smoker_count = 0\n",
    "male_smoker_count = 0\n",
    "male_non_smoker_count = 0\n",
    "\n",
    "with open(\"insurance.csv\", mode=\"r\", newline='') as insurance:\n",
    " insurances = csv.DictReader(insurance)\n",
    " \n",
    " for row in insurances:\n",
    "    sex = row[\"sex\"].lower()\n",
    "    is_smoker = row[\"smoker\"].lower() == \"yes\"\n",
    "    \n",
    "    if sex == \"female\":\n",
    "        if is_smoker:\n",
    "            female_smoker_count += 1\n",
    "        else:\n",
    "            female_non_smoker_count += 1\n",
    "    elif sex == 'male':\n",
    "        if is_smoker:\n",
    "            male_smoker_count += 1\n",
    "        else:\n",
    "            male_non_smoker_count += 1            \n",
    "            \n",
    "print(\"Female Smokers:\", female_smoker_count)\n",
    "print(\"Female Non-Smokers:\", female_non_smoker_count)\n",
    "print(\"Male Smokers:\", male_smoker_count)\n",
    "print(\"Male Non-Smokers:\", male_non_smoker_count)"
   ]
  },
  {
   "cell_type": "markdown",
   "id": "0f722251",
   "metadata": {},
   "source": [
    "And here I decided to get the average costs for smokers grouped by gender"
   ]
  },
  {
   "cell_type": "code",
   "execution_count": null,
   "id": "2e978904",
   "metadata": {},
   "outputs": [],
   "source": [
    "female_smoker_total_cost = 0\n",
    "female_non_smoker_total_cost = 0\n",
    "male_smoker_total_cost = 0\n",
    "male_non_smoker_total_cost = 0\n",
    "\n",
    "female_smoker_count = 0\n",
    "female_non_smoker_count = 0\n",
    "male_smoker_count = 0\n",
    "male_non_smoker_count = 0\n",
    "\n",
    "\n",
    "with open(\"insurance.csv\", mode=\"r\", newline='') as insurance:\n",
    " insurances = csv.DictReader(insurance)\n",
    " for row in insurances:\n",
    "        sex = row['sex'].lower()\n",
    "        is_smoker = row['smoker'].lower() == 'yes'\n",
    "        cost = float(row['charges'])\n",
    "        if sex == 'female':\n",
    "            if is_smoker:\n",
    "                female_smoker_total_cost += cost\n",
    "                female_smoker_count += 1\n",
    "            else:\n",
    "                female_non_smoker_total_cost += cost\n",
    "                female_non_smoker_count += 1\n",
    "        elif sex == 'male':\n",
    "            if is_smoker:\n",
    "                male_smoker_total_cost += cost\n",
    "                male_smoker_count += 1\n",
    "            else:\n",
    "                male_non_smoker_total_cost += cost\n",
    "                male_non_smoker_count += 1        \n",
    "\n",
    "average_cost_female_smokers = \"{:.2f}\".format(female_smoker_total_cost / female_smoker_count if female_smoker_count > 0 else 0)\n",
    "average_cost_female_non_smokers = \"{:.2f}\".format(female_non_smoker_total_cost / female_non_smoker_count if female_non_smoker_count > 0 else 0)\n",
    "average_cost_male_smokers = \"{:.2f}\".format(male_smoker_total_cost / male_smoker_count if male_smoker_count > 0 else 0)\n",
    "average_cost_male_non_smokers = \"{:.2f}\".format(male_non_smoker_total_cost / male_non_smoker_count if male_non_smoker_count > 0 else 0)\n",
    "\n",
    "print(\"Average Cost for Female Smokers:\", average_cost_female_smokers)\n",
    "print(\"Average Cost for Female Non-Smokers:\", average_cost_female_non_smokers)\n",
    "print(\"Average Cost for Male Smokers:\", average_cost_male_smokers)\n",
    "print(\"Average Cost for Male Non-Smokers:\", average_cost_male_non_smokers)"
   ]
  },
  {
   "cell_type": "markdown",
   "id": "a6dbae3d",
   "metadata": {},
   "source": [
    "Overall while there might be some different factors that might increase the cost of the insurance, The most dominant factor no matter what is wether you are a smoker or not.\n",
    "And I can with complete certainty say that it will always be the case, so if you want cheaper insurance you shouldnt smoke at all.\n",
    "There are some other interesting factors that I might analyze in the future but my goal with this project was to determine the main reason for the high costs for insurance costs and visualize that increase while taking different factors into account. "
   ]
  }
 ],
 "metadata": {
  "kernelspec": {
   "display_name": "Python 3 (ipykernel)",
   "language": "python",
   "name": "python3"
  },
  "language_info": {
   "codemirror_mode": {
    "name": "ipython",
    "version": 3
   },
   "file_extension": ".py",
   "mimetype": "text/x-python",
   "name": "python",
   "nbconvert_exporter": "python",
   "pygments_lexer": "ipython3",
   "version": "3.11.5"
  }
 },
 "nbformat": 4,
 "nbformat_minor": 5
}
